{
  "nbformat": 4,
  "nbformat_minor": 0,
  "metadata": {
    "colab": {
      "name": "LS_DS_114_Make_Explanatory_Visualizations_Assignment.ipynb",
      "provenance": [],
      "collapsed_sections": [],
      "include_colab_link": true
    },
    "language_info": {
      "codemirror_mode": {
        "name": "ipython",
        "version": 3
      },
      "file_extension": ".py",
      "mimetype": "text/x-python",
      "name": "python",
      "nbconvert_exporter": "python",
      "pygments_lexer": "ipython3",
      "version": "3.7.1"
    },
    "kernelspec": {
      "display_name": "Python 3",
      "language": "python",
      "name": "python3"
    }
  },
  "cells": [
    {
      "cell_type": "markdown",
      "metadata": {
        "id": "view-in-github",
        "colab_type": "text"
      },
      "source": [
        "<a href=\"https://colab.research.google.com/github/JonRivera/DS-Unit-1-Sprint-1-Data-Wrangling-and-Storytelling/blob/master/module4-make-explanatory-visualizations/LS_DS_114_Make_Explanatory_Visualizations_Assignment.ipynb\" target=\"_parent\"><img src=\"https://colab.research.google.com/assets/colab-badge.svg\" alt=\"Open In Colab\"/></a>"
      ]
    },
    {
      "cell_type": "markdown",
      "metadata": {
        "colab_type": "text",
        "id": "NMEswXWh9mqw"
      },
      "source": [
        "Lambda School Data Science\n",
        "\n",
        "*Unit 1, Sprint 1, Module 4*\n",
        "\n",
        "---\n",
        "\n",
        "# ASSIGNMENT\n",
        "\n",
        "### 1) Replicate the lesson code. I recommend that you [do not copy-paste](https://docs.google.com/document/d/1ubOw9B3Hfip27hF2ZFnW3a3z9xAgrUDRReOEo-FHCVs/edit).\n",
        "\n",
        "Get caught up to where we got our example in class and then try and take things further. How close to \"pixel perfect\" can you make the lecture graph?\n",
        "\n",
        "Once you have something that you're proud of, share your graph in the cohort channel and move on to the second exercise.\n",
        "\n",
        "### 2) Reproduce another example from [FiveThityEight's shared data repository](https://data.fivethirtyeight.com/).\n",
        "\n",
        "**WARNING**: There are a lot of very custom graphs and tables at the above link. I **highly** recommend not trying to reproduce any that look like a table of values or something really different from the graph types that we are already familiar with. Search through the posts until you find a graph type that you are more or less familiar with: histogram, bar chart, stacked bar chart, line chart, [seaborn relplot](https://seaborn.pydata.org/generated/seaborn.relplot.html), etc. Recreating some of the graphics that 538 uses would be a lot easier in Adobe photoshop/illustrator than with matplotlib. \n",
        "\n",
        "- If you put in some time to find a graph that looks \"easy\" to replicate you'll probably find that it's not as easy as you thought. \n",
        "\n",
        "- If you start with a graph that looks hard to replicate you'll probably run up against a brick wall and be disappointed with your afternoon.\n",
        "\n",
        "\n",
        "\n",
        "\n",
        "\n",
        "\n",
        "\n",
        "\n",
        "\n",
        "\n"
      ]
    },
    {
      "cell_type": "markdown",
      "metadata": {
        "id": "fr2MPfzB4BdC",
        "colab_type": "text"
      },
      "source": [
        "**PROBLEM 1**"
      ]
    },
    {
      "cell_type": "code",
      "metadata": {
        "id": "AnA2QzCx4zBR",
        "colab_type": "code",
        "colab": {
          "base_uri": "https://localhost:8080/",
          "height": 35
        },
        "outputId": "2d3375a1-df5b-44b5-c7bb-81c2ead19ff5"
      },
      "source": [
        "df0 = pd.read_csv('https://raw.githubusercontent.com/fivethirtyeight/data/master/inconvenient-sequel/ratings.csv')\n",
        "df0.shape"
      ],
      "execution_count": 292,
      "outputs": [
        {
          "output_type": "execute_result",
          "data": {
            "text/plain": [
              "(80053, 27)"
            ]
          },
          "metadata": {
            "tags": []
          },
          "execution_count": 292
        }
      ]
    },
    {
      "cell_type": "code",
      "metadata": {
        "id": "0zlw-ChK5PxH",
        "colab_type": "code",
        "colab": {
          "base_uri": "https://localhost:8080/",
          "height": 503
        },
        "outputId": "2d4bc6bb-2376-4335-de8a-afa0ee4c9ef4"
      },
      "source": [
        "df0.dtypes"
      ],
      "execution_count": 294,
      "outputs": [
        {
          "output_type": "execute_result",
          "data": {
            "text/plain": [
              "timestamp       object\n",
              "respondents      int64\n",
              "category        object\n",
              "link            object\n",
              "average        float64\n",
              "mean           float64\n",
              "median           int64\n",
              "1_votes          int64\n",
              "2_votes          int64\n",
              "3_votes          int64\n",
              "4_votes          int64\n",
              "5_votes          int64\n",
              "6_votes          int64\n",
              "7_votes          int64\n",
              "8_votes          int64\n",
              "9_votes          int64\n",
              "10_votes         int64\n",
              "1_pct          float64\n",
              "2_pct          float64\n",
              "3_pct          float64\n",
              "4_pct          float64\n",
              "5_pct          float64\n",
              "6_pct          float64\n",
              "7_pct          float64\n",
              "8_pct          float64\n",
              "9_pct          float64\n",
              "10_pct         float64\n",
              "dtype: object"
            ]
          },
          "metadata": {
            "tags": []
          },
          "execution_count": 294
        }
      ]
    },
    {
      "cell_type": "code",
      "metadata": {
        "id": "Wb2Ws1tx44rS",
        "colab_type": "code",
        "colab": {}
      },
      "source": [
        "#Get percent votes and use them in the x axis -> ex) rating 10 got 33.6 %\n",
        "#x axis will corespond to number of votes\n",
        "#x=range(1,11)\n",
        "#y=df0\n",
        "#df0.shape\n",
        "#We are interested in columns 18:27 inclusively\n",
        "#We are interested in row1\n",
        "#convert row 1 into tidy data format\n",
        "\n",
        "df3= df0.iloc[0,17:]\n"
      ],
      "execution_count": 0,
      "outputs": []
    },
    {
      "cell_type": "code",
      "metadata": {
        "id": "h4Hx_2Kz47-6",
        "colab_type": "code",
        "colab": {}
      },
      "source": [
        "df3 = df3.reset_index()"
      ],
      "execution_count": 0,
      "outputs": []
    },
    {
      "cell_type": "code",
      "metadata": {
        "id": "jt1VVYPB54E-",
        "colab_type": "code",
        "colab": {
          "base_uri": "https://localhost:8080/",
          "height": 35
        },
        "outputId": "af641704-14ac-4b19-aa0b-53d551b7f5e1"
      },
      "source": [
        "# renaming columns\n",
        "df3 = df3.rename(columns={'index': 'Rating', 0:'Percents'})\n",
        "df3\n",
        "\n",
        "def pct_to_number(pct):\n",
        "  return float(pct)\n",
        "df3['Percents']=df3['Percents'].apply(pct_to_number)\n",
        "df3['Percents'].dtype\n",
        "\n",
        "#I can use df1 to make a very specific graph"
      ],
      "execution_count": 297,
      "outputs": [
        {
          "output_type": "execute_result",
          "data": {
            "text/plain": [
              "dtype('float64')"
            ]
          },
          "metadata": {
            "tags": []
          },
          "execution_count": 297
        }
      ]
    },
    {
      "cell_type": "code",
      "metadata": {
        "id": "M13GgrqY6P-h",
        "colab_type": "code",
        "colab": {
          "base_uri": "https://localhost:8080/",
          "height": 355
        },
        "outputId": "98a6c279-84fd-412d-b2fd-2b03b8dbb9ca"
      },
      "source": [
        "df3"
      ],
      "execution_count": 298,
      "outputs": [
        {
          "output_type": "execute_result",
          "data": {
            "text/html": [
              "<div>\n",
              "<style scoped>\n",
              "    .dataframe tbody tr th:only-of-type {\n",
              "        vertical-align: middle;\n",
              "    }\n",
              "\n",
              "    .dataframe tbody tr th {\n",
              "        vertical-align: top;\n",
              "    }\n",
              "\n",
              "    .dataframe thead th {\n",
              "        text-align: right;\n",
              "    }\n",
              "</style>\n",
              "<table border=\"1\" class=\"dataframe\">\n",
              "  <thead>\n",
              "    <tr style=\"text-align: right;\">\n",
              "      <th></th>\n",
              "      <th>Rating</th>\n",
              "      <th>Percents</th>\n",
              "    </tr>\n",
              "  </thead>\n",
              "  <tbody>\n",
              "    <tr>\n",
              "      <th>0</th>\n",
              "      <td>1_pct</td>\n",
              "      <td>49.0</td>\n",
              "    </tr>\n",
              "    <tr>\n",
              "      <th>1</th>\n",
              "      <td>2_pct</td>\n",
              "      <td>1.7</td>\n",
              "    </tr>\n",
              "    <tr>\n",
              "      <th>2</th>\n",
              "      <td>3_pct</td>\n",
              "      <td>1.7</td>\n",
              "    </tr>\n",
              "    <tr>\n",
              "      <th>3</th>\n",
              "      <td>4_pct</td>\n",
              "      <td>0.7</td>\n",
              "    </tr>\n",
              "    <tr>\n",
              "      <th>4</th>\n",
              "      <td>5_pct</td>\n",
              "      <td>1.7</td>\n",
              "    </tr>\n",
              "    <tr>\n",
              "      <th>5</th>\n",
              "      <td>6_pct</td>\n",
              "      <td>1.7</td>\n",
              "    </tr>\n",
              "    <tr>\n",
              "      <th>6</th>\n",
              "      <td>7_pct</td>\n",
              "      <td>2.7</td>\n",
              "    </tr>\n",
              "    <tr>\n",
              "      <th>7</th>\n",
              "      <td>8_pct</td>\n",
              "      <td>2.0</td>\n",
              "    </tr>\n",
              "    <tr>\n",
              "      <th>8</th>\n",
              "      <td>9_pct</td>\n",
              "      <td>5.0</td>\n",
              "    </tr>\n",
              "    <tr>\n",
              "      <th>9</th>\n",
              "      <td>10_pct</td>\n",
              "      <td>33.6</td>\n",
              "    </tr>\n",
              "  </tbody>\n",
              "</table>\n",
              "</div>"
            ],
            "text/plain": [
              "   Rating  Percents\n",
              "0   1_pct      49.0\n",
              "1   2_pct       1.7\n",
              "2   3_pct       1.7\n",
              "3   4_pct       0.7\n",
              "4   5_pct       1.7\n",
              "5   6_pct       1.7\n",
              "6   7_pct       2.7\n",
              "7   8_pct       2.0\n",
              "8   9_pct       5.0\n",
              "9  10_pct      33.6"
            ]
          },
          "metadata": {
            "tags": []
          },
          "execution_count": 298
        }
      ]
    },
    {
      "cell_type": "code",
      "metadata": {
        "id": "upUWCnRl6rKn",
        "colab_type": "code",
        "colab": {}
      },
      "source": [
        "df3=df3.drop('Rating',axis=1)"
      ],
      "execution_count": 0,
      "outputs": []
    },
    {
      "cell_type": "code",
      "metadata": {
        "id": "_F7rnmVi61vv",
        "colab_type": "code",
        "colab": {}
      },
      "source": [
        "df4= df3['Percents']\n",
        "#df2 to  get a 1 dimensional array\n"
      ],
      "execution_count": 0,
      "outputs": []
    },
    {
      "cell_type": "code",
      "metadata": {
        "id": "u3qjpRDk6-1U",
        "colab_type": "code",
        "colab": {
          "base_uri": "https://localhost:8080/",
          "height": 35
        },
        "outputId": "9e658269-4e6d-4ad5-a72a-4fe66490500f"
      },
      "source": [
        "df4.shape"
      ],
      "execution_count": 303,
      "outputs": [
        {
          "output_type": "execute_result",
          "data": {
            "text/plain": [
              "(10,)"
            ]
          },
          "metadata": {
            "tags": []
          },
          "execution_count": 303
        }
      ]
    },
    {
      "cell_type": "code",
      "metadata": {
        "id": "x1A8JMS37B3F",
        "colab_type": "code",
        "colab": {
          "base_uri": "https://localhost:8080/",
          "height": 325
        },
        "outputId": "cddb56cf-b9c7-49e4-83e4-e4ac37241422"
      },
      "source": [
        "#Guided by lecture notes I was able to simply plug my data from d4 into\n",
        "#bar plot in matplotlib\n",
        "\n",
        "#style sheet\n",
        "plt.style.use('fivethirtyeight')\n",
        "\n",
        "# create fig and ax variable\n",
        "fig, ax = plt.subplots()\n",
        "\n",
        "#white figure background\n",
        "fig.set_facecolor('white')\n",
        "\n",
        "#put bars on th eplot\n",
        "ax.bar(x=[1,2,3,4,5,6,7,8,9,10], height = df4, color ='#ED713A', width=.91)\n",
        "\n",
        "#10 bars so you need 10 values\n",
        "# x axis\n",
        "\n",
        "#white axes background\n",
        "ax.set_facecolor('white')\n",
        "#x axis\n",
        "ax.set_xticks(range(1,11,1))\n",
        "ax.set_xticklabels(range(1,11,1))\n",
        "\n",
        "#y axis\n",
        "ax.set_yticks(range(0,41,10))\n",
        "ax.set_yticklabels(range(0,41,10))\n",
        "\n",
        "#axis titles\n",
        "ax.set_xlabel('Rating')\n",
        "ax.set_ylabel('Percent of Total Votes')\n",
        "\n",
        "ax.set_title('An Inconvenient Sequel:' +' Truth To Power is divise')\n",
        "plt.show()\n",
        "\n"
      ],
      "execution_count": 306,
      "outputs": [
        {
          "output_type": "display_data",
          "data": {
            "image/png": "[encoded data removed]",
            "text/plain": [
              "<Figure size 432x288 with 1 Axes>"
            ]
          },
          "metadata": {
            "tags": []
          }
        }
      ]
    },
    {
      "cell_type": "markdown",
      "metadata": {
        "id": "5GG_VhkB37nT",
        "colab_type": "text"
      },
      "source": [
        "**PROBLEM 2**"
      ]
    },
    {
      "cell_type": "code",
      "metadata": {
        "id": "7SY1ZHawyZvz",
        "colab_type": "code",
        "colab": {}
      },
      "source": [
        "\n",
        "# Post can be found https://projects.fivethirtyeight.com/clinton-trump-hip-hop-lyrics/\n",
        "\n",
        "import pandas as pd\n",
        "#obtain data from fivethirtyeight, link below\n",
        "df = pd.read_csv(\"https://raw.githubusercontent.com/fivethirtyeight/data/master/hip-hop-candidate-lyrics/genius_hip_hop_lyrics.csv\", encoding = \"ISO-8859-1\")\n",
        "#had difficulties loading files because of encoding\n",
        "#so encoding was changed\n",
        "\n"
      ],
      "execution_count": 0,
      "outputs": []
    },
    {
      "cell_type": "code",
      "metadata": {
        "id": "D3n5TXtHiMHO",
        "colab_type": "code",
        "colab": {}
      },
      "source": [
        "df"
      ],
      "execution_count": 0,
      "outputs": []
    },
    {
      "cell_type": "code",
      "metadata": {
        "id": "eSzGEJjfyZWH",
        "colab_type": "code",
        "colab": {
          "base_uri": "https://localhost:8080/",
          "height": 1000
        },
        "outputId": "e0fa2231-ffb8-47b8-89ae-804207c08b2d"
      },
      "source": [
        "#Make a column that groups candidates and album release dates into # of mentions \n",
        "# for a given year\n",
        "df2= df.groupby([\"candidate\", \"album_release_date\"]).size().reset_index(name='mentions')\n",
        "print(df2)\n",
        "\n",
        "#I reverted column and row display settings back to normal\n",
        "#I set limits of rows and columns to None so I could see all the indexes "
      ],
      "execution_count": 280,
      "outputs": [
        {
          "output_type": "stream",
          "text": [
            "          candidate  album_release_date  mentions\n",
            "0        Ben Carson                2011         1\n",
            "1    Bernie Sanders                2015         2\n",
            "2    Chris Christie                2014         1\n",
            "3    Chris Christie                2016         1\n",
            "4      Donald Trump                1989         3\n",
            "5      Donald Trump                1990         2\n",
            "6      Donald Trump                1991         2\n",
            "7      Donald Trump                1992         4\n",
            "8      Donald Trump                1993         1\n",
            "9      Donald Trump                1994         3\n",
            "10     Donald Trump                1995         4\n",
            "11     Donald Trump                1996         3\n",
            "12     Donald Trump                1997         2\n",
            "13     Donald Trump                1998         7\n",
            "14     Donald Trump                1999         6\n",
            "15     Donald Trump                2000         9\n",
            "16     Donald Trump                2001         3\n",
            "17     Donald Trump                2002         9\n",
            "18     Donald Trump                2003         4\n",
            "19     Donald Trump                2004         4\n",
            "20     Donald Trump                2005         8\n",
            "21     Donald Trump                2006        12\n",
            "22     Donald Trump                2007         7\n",
            "23     Donald Trump                2008         9\n",
            "24     Donald Trump                2009         7\n",
            "25     Donald Trump                2010        12\n",
            "26     Donald Trump                2011        16\n",
            "27     Donald Trump                2012        17\n",
            "28     Donald Trump                2013        33\n",
            "29     Donald Trump                2014        22\n",
            "30     Donald Trump                2015        32\n",
            "31     Donald Trump                2016        27\n",
            "32  Hillary Clinton                1993         2\n",
            "33  Hillary Clinton                1994         2\n",
            "34  Hillary Clinton                1996         2\n",
            "35  Hillary Clinton                1997         2\n",
            "36  Hillary Clinton                1998         2\n",
            "37  Hillary Clinton                1999         3\n",
            "38  Hillary Clinton                2000         3\n",
            "39  Hillary Clinton                2001         3\n",
            "40  Hillary Clinton                2002         1\n",
            "41  Hillary Clinton                2003         1\n",
            "42  Hillary Clinton                2004         2\n",
            "43  Hillary Clinton                2005         2\n",
            "44  Hillary Clinton                2007         4\n",
            "45  Hillary Clinton                2008        17\n",
            "46  Hillary Clinton                2009         5\n",
            "47  Hillary Clinton                2010         5\n",
            "48  Hillary Clinton                2011         4\n",
            "49  Hillary Clinton                2012        11\n",
            "50  Hillary Clinton                2013         8\n",
            "51  Hillary Clinton                2014         4\n",
            "52  Hillary Clinton                2015         6\n",
            "53  Hillary Clinton                2016         3\n",
            "54         Jeb Bush                2001         1\n",
            "55         Jeb Bush                2005         3\n",
            "56         Jeb Bush                2006         2\n",
            "57         Jeb Bush                2007         1\n",
            "58         Jeb Bush                2012         1\n",
            "59         Jeb Bush                2013         1\n",
            "60    Mike Huckabee                2011         1\n",
            "61    Mike Huckabee                2012         1\n",
            "62         Ted Cruz                2015         1\n"
          ],
          "name": "stdout"
        }
      ]
    },
    {
      "cell_type": "code",
      "metadata": {
        "id": "a53pZ5tifiIz",
        "colab_type": "code",
        "colab": {
          "base_uri": "https://localhost:8080/",
          "height": 282
        },
        "outputId": "a556ea4d-dbda-42ec-94f7-294468153531"
      },
      "source": [
        "#Alot of trial and error and researching in the web, while comparing with lecture notes\n",
        "#I eventually realize that I can make a nice scatter plot with seaborn\n",
        "#And Use Matplotlib for extra control\n",
        "#Still don't know how to change hues based on preference\n",
        "#Seaborn randomizes the color??? or is there some parameter I am unaware off?\n",
        "\n",
        "\n",
        "import seaborn as sns\n",
        "import matplotlib.pyplot as plt\n",
        "%matplotlib inline\n",
        "sns.set_style(\"darkgrid\")\n",
        "\n",
        "import matplotlib.pyplot as plt\n",
        "import seaborn as sns\n",
        "\n",
        "\n",
        "\n",
        "# ax.set_xticks & ax.set_ylabel gives control of the x axis and y axis\n",
        "ax =sns.scatterplot(x=\"album_release_date\", y=\"mentions\", data=df2,hue=\"candidate\",units=1)\n",
        "ax.set_xticks(range(1990,2020,10))\n",
        "ax.set_xticklabels(range(1990,2020,5))\n",
        "\n",
        "ax.set_yticks(range(0,40,5))\n",
        "ax.set_yticklabels(range(0,40,5))\n",
        "# The picture doesn't really have x and y labels , they are implied\n",
        "# y axis corresponds to mentions\n",
        "# x axis corresponds to album_release_date\n",
        "#Note: Trupms and Clinton's hue look very similar so they might look like\n",
        "#Same mentions if you don't look closely - don't know how to change hue directly\n",
        "\n",
        "ax.set_xlabel('')\n",
        "ax.set_ylabel('')\n",
        "ax.set_title('Every mention of 2016 primary candidates in hip-hop songs')\n",
        "plt.show()"
      ],
      "execution_count": 281,
      "outputs": [
        {
          "output_type": "display_data",
          "data": {
            "image/png": "[encoded data removed]",
            "text/plain": [
              "<Figure size 432x288 with 1 Axes>"
            ]
          },
          "metadata": {
            "tags": []
          }
        }
      ]
    },
    {
      "cell_type": "code",
      "metadata": {
        "id": "bKC20DBa0sU0",
        "colab_type": "code",
        "colab": {}
      },
      "source": [
        "#Final Notes for PROBLEM2\n",
        "#Initial thought process was to create and superimpose 8 scatter plots with different colors\n",
        "#The scatter plots were going to compare two different album release date vs mentions\n",
        "# of candidate\n",
        "#I would begin by making 8 different data frames of candidates\n",
        "#ex C1 = df2[(df2[\"candidate\"] == \"Ben Carson\")], C2= ...\n",
        "#Then somehow I would merge all 8 scatter plots\n",
        "#Realize eventually this is too tedious, and didn't really found a way to merge all\n",
        "\n",
        "\n"
      ],
      "execution_count": 0,
      "outputs": []
    },
    {
      "cell_type": "markdown",
      "metadata": {
        "id": "0wSrBzmJyWaV",
        "colab_type": "text"
      },
      "source": [
        "# STRETCH OPTIONS\n",
        "\n",
        "### 1) Reproduce one of the following using the matplotlib or seaborn libraries:\n",
        "\n",
        "- [thanksgiving-2015](https://fivethirtyeight.com/features/heres-what-your-part-of-america-eats-on-thanksgiving/) \n",
        "- [candy-power-ranking](https://fivethirtyeight.com/features/the-ultimate-halloween-candy-power-ranking/) \n",
        "- or another example of your choice!\n",
        "\n",
        "### 2) Make more charts!\n",
        "\n",
        "Choose a chart you want to make, from [Visual Vocabulary - Vega Edition](http://ft.com/vocabulary).\n",
        "\n",
        "Find the chart in an example gallery of a Python data visualization library:\n",
        "- [Seaborn](http://seaborn.pydata.org/examples/index.html)\n",
        "- [Altair](https://altair-viz.github.io/gallery/index.html)\n",
        "- [Matplotlib](https://matplotlib.org/gallery.html)\n",
        "- [Pandas](https://pandas.pydata.org/pandas-docs/stable/visualization.html)\n",
        "\n",
        "Reproduce the chart. [Optionally, try the \"Ben Franklin Method.\"](https://docs.google.com/document/d/1ubOw9B3Hfip27hF2ZFnW3a3z9xAgrUDRReOEo-FHCVs/edit) If you want, experiment and make changes.\n",
        "\n",
        "Take notes. Consider sharing your work with your cohort!"
      ]
    },
    {
      "cell_type": "code",
      "metadata": {
        "id": "dRJkKftiy5BJ",
        "colab_type": "code",
        "colab": {}
      },
      "source": [
        "# More Work Here"
      ],
      "execution_count": 0,
      "outputs": []
    }
  ]
}