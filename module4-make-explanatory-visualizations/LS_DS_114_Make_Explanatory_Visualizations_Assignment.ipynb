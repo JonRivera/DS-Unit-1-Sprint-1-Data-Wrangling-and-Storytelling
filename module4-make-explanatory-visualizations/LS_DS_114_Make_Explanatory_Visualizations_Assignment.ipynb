{
  "nbformat": 4,
  "nbformat_minor": 0,
  "metadata": {
    "colab": {
      "name": "LS_DS_114_Make_Explanatory_Visualizations_Assignment.ipynb",
      "provenance": [],
      "collapsed_sections": [],
      "include_colab_link": true
    },
    "language_info": {
      "codemirror_mode": {
        "name": "ipython",
        "version": 3
      },
      "file_extension": ".py",
      "mimetype": "text/x-python",
      "name": "python",
      "nbconvert_exporter": "python",
      "pygments_lexer": "ipython3",
      "version": "3.7.1"
    },
    "kernelspec": {
      "display_name": "Python 3",
      "language": "python",
      "name": "python3"
    }
  },
  "cells": [
    {
      "cell_type": "markdown",
      "metadata": {
        "id": "view-in-github",
        "colab_type": "text"
      },
      "source": [
        "<a href=\"https://colab.research.google.com/github/JonRivera/DS-Unit-1-Sprint-1-Data-Wrangling-and-Storytelling/blob/master/module4-make-explanatory-visualizations/LS_DS_114_Make_Explanatory_Visualizations_Assignment.ipynb\" target=\"_parent\"><img src=\"https://colab.research.google.com/assets/colab-badge.svg\" alt=\"Open In Colab\"/></a>"
      ]
    },
    {
      "cell_type": "markdown",
      "metadata": {
        "colab_type": "text",
        "id": "NMEswXWh9mqw"
      },
      "source": [
        "Lambda School Data Science\n",
        "\n",
        "*Unit 1, Sprint 1, Module 4*\n",
        "\n",
        "---\n",
        "\n",
        "# ASSIGNMENT\n",
        "\n",
        "### 1) Replicate the lesson code. I recommend that you [do not copy-paste](https://docs.google.com/document/d/1ubOw9B3Hfip27hF2ZFnW3a3z9xAgrUDRReOEo-FHCVs/edit).\n",
        "\n",
        "Get caught up to where we got our example in class and then try and take things further. How close to \"pixel perfect\" can you make the lecture graph?\n",
        "\n",
        "Once you have something that you're proud of, share your graph in the cohort channel and move on to the second exercise.\n",
        "\n",
        "### 2) Reproduce another example from [FiveThityEight's shared data repository](https://data.fivethirtyeight.com/).\n",
        "\n",
        "**WARNING**: There are a lot of very custom graphs and tables at the above link. I **highly** recommend not trying to reproduce any that look like a table of values or something really different from the graph types that we are already familiar with. Search through the posts until you find a graph type that you are more or less familiar with: histogram, bar chart, stacked bar chart, line chart, [seaborn relplot](https://seaborn.pydata.org/generated/seaborn.relplot.html), etc. Recreating some of the graphics that 538 uses would be a lot easier in Adobe photoshop/illustrator than with matplotlib. \n",
        "\n",
        "- If you put in some time to find a graph that looks \"easy\" to replicate you'll probably find that it's not as easy as you thought. \n",
        "\n",
        "- If you start with a graph that looks hard to replicate you'll probably run up against a brick wall and be disappointed with your afternoon.\n",
        "\n",
        "\n",
        "\n",
        "\n",
        "\n",
        "\n",
        "\n",
        "\n",
        "\n",
        "\n"
      ]
    },
    {
      "cell_type": "markdown",
      "metadata": {
        "id": "fr2MPfzB4BdC",
        "colab_type": "text"
      },
      "source": [
        "**PROBLEM 1**"
      ]
    },
    {
      "cell_type": "code",
      "metadata": {
        "id": "AnA2QzCx4zBR",
        "colab_type": "code",
        "outputId": "5445383f-6642-4035-fc8d-d71bb9d7e7df",
        "colab": {
          "base_uri": "https://localhost:8080/",
          "height": 35
        }
      },
      "source": [
        "import pandas as pd\n",
        "df0 = pd.read_csv('https://raw.githubusercontent.com/fivethirtyeight/data/master/inconvenient-sequel/ratings.csv')\n",
        "df0.shape"
      ],
      "execution_count": 0,
      "outputs": [
        {
          "output_type": "execute_result",
          "data": {
            "text/plain": [
              "(80053, 27)"
            ]
          },
          "metadata": {
            "tags": []
          },
          "execution_count": 31
        }
      ]
    },
    {
      "cell_type": "code",
      "metadata": {
        "id": "0zlw-ChK5PxH",
        "colab_type": "code",
        "outputId": "0a32bf54-762f-4eeb-8d18-75fdb117669f",
        "colab": {
          "base_uri": "https://localhost:8080/",
          "height": 503
        }
      },
      "source": [
        "df0.dtypes"
      ],
      "execution_count": 0,
      "outputs": [
        {
          "output_type": "execute_result",
          "data": {
            "text/plain": [
              "timestamp       object\n",
              "respondents      int64\n",
              "category        object\n",
              "link            object\n",
              "average        float64\n",
              "mean           float64\n",
              "median           int64\n",
              "1_votes          int64\n",
              "2_votes          int64\n",
              "3_votes          int64\n",
              "4_votes          int64\n",
              "5_votes          int64\n",
              "6_votes          int64\n",
              "7_votes          int64\n",
              "8_votes          int64\n",
              "9_votes          int64\n",
              "10_votes         int64\n",
              "1_pct          float64\n",
              "2_pct          float64\n",
              "3_pct          float64\n",
              "4_pct          float64\n",
              "5_pct          float64\n",
              "6_pct          float64\n",
              "7_pct          float64\n",
              "8_pct          float64\n",
              "9_pct          float64\n",
              "10_pct         float64\n",
              "dtype: object"
            ]
          },
          "metadata": {
            "tags": []
          },
          "execution_count": 14
        }
      ]
    },
    {
      "cell_type": "code",
      "metadata": {
        "id": "Wb2Ws1tx44rS",
        "colab_type": "code",
        "colab": {}
      },
      "source": [
        "#Get percent votes and use them in the x axis -> ex) rating 10 got 33.6 %\n",
        "#x axis will corespond to number of votes\n",
        "#x=range(1,11)\n",
        "#y=df0\n",
        "#df0.shape\n",
        "#We are interested in columns 18:27 inclusively\n",
        "#We are interested in row1\n",
        "#convert row 1 into tidy data format\n",
        "\n",
        "df3= df0.iloc[0,17:]\n"
      ],
      "execution_count": 0,
      "outputs": []
    },
    {
      "cell_type": "code",
      "metadata": {
        "id": "h4Hx_2Kz47-6",
        "colab_type": "code",
        "colab": {}
      },
      "source": [
        "df3 = df3.reset_index()"
      ],
      "execution_count": 0,
      "outputs": []
    },
    {
      "cell_type": "code",
      "metadata": {
        "id": "jt1VVYPB54E-",
        "colab_type": "code",
        "outputId": "ad8832a7-065e-443d-97ec-307c6afe1be5",
        "colab": {
          "base_uri": "https://localhost:8080/",
          "height": 35
        }
      },
      "source": [
        "# renaming columns\n",
        "df3 = df3.rename(columns={'index': 'Rating', 0:'Percents'})\n",
        "df3\n",
        "\n",
        "def pct_to_number(pct):\n",
        "  return float(pct)\n",
        "df3['Percents']=df3['Percents'].apply(pct_to_number)\n",
        "df3['Percents'].dtype\n",
        "\n",
        "#I can use df3 to make a very specific graph"
      ],
      "execution_count": 0,
      "outputs": [
        {
          "output_type": "execute_result",
          "data": {
            "text/plain": [
              "dtype('float64')"
            ]
          },
          "metadata": {
            "tags": []
          },
          "execution_count": 34
        }
      ]
    },
    {
      "cell_type": "code",
      "metadata": {
        "id": "M13GgrqY6P-h",
        "colab_type": "code",
        "outputId": "a16ddec5-06ca-4dcf-9c88-76ced167edd9",
        "colab": {
          "base_uri": "https://localhost:8080/",
          "height": 355
        }
      },
      "source": [
        "df3"
      ],
      "execution_count": 0,
      "outputs": [
        {
          "output_type": "execute_result",
          "data": {
            "text/html": [
              "<div>\n",
              "<style scoped>\n",
              "    .dataframe tbody tr th:only-of-type {\n",
              "        vertical-align: middle;\n",
              "    }\n",
              "\n",
              "    .dataframe tbody tr th {\n",
              "        vertical-align: top;\n",
              "    }\n",
              "\n",
              "    .dataframe thead th {\n",
              "        text-align: right;\n",
              "    }\n",
              "</style>\n",
              "<table border=\"1\" class=\"dataframe\">\n",
              "  <thead>\n",
              "    <tr style=\"text-align: right;\">\n",
              "      <th></th>\n",
              "      <th>Rating</th>\n",
              "      <th>Percents</th>\n",
              "    </tr>\n",
              "  </thead>\n",
              "  <tbody>\n",
              "    <tr>\n",
              "      <th>0</th>\n",
              "      <td>1_pct</td>\n",
              "      <td>49.0</td>\n",
              "    </tr>\n",
              "    <tr>\n",
              "      <th>1</th>\n",
              "      <td>2_pct</td>\n",
              "      <td>1.7</td>\n",
              "    </tr>\n",
              "    <tr>\n",
              "      <th>2</th>\n",
              "      <td>3_pct</td>\n",
              "      <td>1.7</td>\n",
              "    </tr>\n",
              "    <tr>\n",
              "      <th>3</th>\n",
              "      <td>4_pct</td>\n",
              "      <td>0.7</td>\n",
              "    </tr>\n",
              "    <tr>\n",
              "      <th>4</th>\n",
              "      <td>5_pct</td>\n",
              "      <td>1.7</td>\n",
              "    </tr>\n",
              "    <tr>\n",
              "      <th>5</th>\n",
              "      <td>6_pct</td>\n",
              "      <td>1.7</td>\n",
              "    </tr>\n",
              "    <tr>\n",
              "      <th>6</th>\n",
              "      <td>7_pct</td>\n",
              "      <td>2.7</td>\n",
              "    </tr>\n",
              "    <tr>\n",
              "      <th>7</th>\n",
              "      <td>8_pct</td>\n",
              "      <td>2.0</td>\n",
              "    </tr>\n",
              "    <tr>\n",
              "      <th>8</th>\n",
              "      <td>9_pct</td>\n",
              "      <td>5.0</td>\n",
              "    </tr>\n",
              "    <tr>\n",
              "      <th>9</th>\n",
              "      <td>10_pct</td>\n",
              "      <td>33.6</td>\n",
              "    </tr>\n",
              "  </tbody>\n",
              "</table>\n",
              "</div>"
            ],
            "text/plain": [
              "   Rating  Percents\n",
              "0   1_pct      49.0\n",
              "1   2_pct       1.7\n",
              "2   3_pct       1.7\n",
              "3   4_pct       0.7\n",
              "4   5_pct       1.7\n",
              "5   6_pct       1.7\n",
              "6   7_pct       2.7\n",
              "7   8_pct       2.0\n",
              "8   9_pct       5.0\n",
              "9  10_pct      33.6"
            ]
          },
          "metadata": {
            "tags": []
          },
          "execution_count": 21
        }
      ]
    },
    {
      "cell_type": "code",
      "metadata": {
        "id": "upUWCnRl6rKn",
        "colab_type": "code",
        "colab": {}
      },
      "source": [
        "df3=df3.drop('Rating',axis=1)"
      ],
      "execution_count": 0,
      "outputs": []
    },
    {
      "cell_type": "code",
      "metadata": {
        "id": "_F7rnmVi61vv",
        "colab_type": "code",
        "colab": {}
      },
      "source": [
        "df4= df3['Percents']\n",
        "#df2 to  get a 1 dimensional array\n",
        "#matplot lib only takes 1 dimension arrays for height or y axis values.\n"
      ],
      "execution_count": 0,
      "outputs": []
    },
    {
      "cell_type": "code",
      "metadata": {
        "id": "u3qjpRDk6-1U",
        "colab_type": "code",
        "outputId": "18ca1f44-ee35-4e9e-e49e-4492222fe76c",
        "colab": {
          "base_uri": "https://localhost:8080/",
          "height": 35
        }
      },
      "source": [
        "df4.shape"
      ],
      "execution_count": 0,
      "outputs": [
        {
          "output_type": "execute_result",
          "data": {
            "text/plain": [
              "(10,)"
            ]
          },
          "metadata": {
            "tags": []
          },
          "execution_count": 39
        }
      ]
    },
    {
      "cell_type": "code",
      "metadata": {
        "id": "x1A8JMS37B3F",
        "colab_type": "code",
        "outputId": "86b3215a-9b26-46db-b3dc-672fee060754",
        "colab": {
          "base_uri": "https://localhost:8080/",
          "height": 320
        }
      },
      "source": [
        "#Using AX matplot lib syntax - plot a bar graph\n",
        "#Guided by lecture notes I was able to simply plug my data into height\n",
        "import matplotlib.pyplot as plt\n",
        "#style sheet\n",
        "plt.style.use('fivethirtyeight')\n",
        "\n",
        "# create fig and ax variable\n",
        "fig, ax = plt.subplots()\n",
        "\n",
        "#white figure background\n",
        "fig.set_facecolor('white')\n",
        "\n",
        "#put bars on theplot\n",
        "ax.bar(x=[1,2,3,4,5,6,7,8,9,10], height = df4, color ='#ED713A', width=.91)\n",
        "\n",
        "#10 bars so you need 10 values\n",
        "# x axis\n",
        "\n",
        "#white axes background\n",
        "ax.set_facecolor('white')\n",
        "#x axis ticks \n",
        "ax.set_xticks(range(1,11,1))\n",
        "ax.set_xticklabels(range(1,11,1))\n",
        "\n",
        "#y axis ticks\n",
        "ax.set_yticks(range(0,41,10))\n",
        "ax.set_yticklabels(range(0,41,10))\n",
        "\n",
        "#x axis titles\n",
        "ax.set_xlabel('Rating')\n",
        "ax.set_ylabel('Percent of Total Votes')\n",
        "\n",
        "#graph label\n",
        "ax.set_title('An Inconvenient Sequel:' +' Truth To Power is divise',\n",
        "             x = .3, y=1,\n",
        "             fontsize='12', fontweight='bold')\n",
        "\n",
        "#Additional text\n",
        "ax.text(s='IMDb ratings for the film as of Aug. 29', x=-1, y=50, fontsize='11')\n",
        "\n",
        "# Remove Spines\n",
        "ax.spines['left'].set_visible(False)\n",
        "ax.spines['right'].set_visible(False)\n",
        "ax.spines['top'].set_visible(False)\n",
        "ax.spines['bottom'].set_visible(False)\n",
        "\n",
        "plt.show()\n"
      ],
      "execution_count": 0,
      "outputs": [
        {
          "output_type": "display_data",
          "data": {
            "image/png": "[encoded data removed]",
            "text/plain": [
              "<Figure size 432x288 with 1 Axes>"
            ]
          },
          "metadata": {
            "tags": []
          }
        }
      ]
    },
    {
      "cell_type": "markdown",
      "metadata": {
        "id": "5GG_VhkB37nT",
        "colab_type": "text"
      },
      "source": [
        "**PROBLEM 2**"
      ]
    },
    {
      "cell_type": "code",
      "metadata": {
        "id": "7SY1ZHawyZvz",
        "colab_type": "code",
        "colab": {}
      },
      "source": [
        "\n",
        "# Post can be found https://projects.fivethirtyeight.com/clinton-trump-hip-hop-lyrics/\n",
        "\n",
        "import pandas as pd\n",
        "# Obtain data from fivethirtyeight, link below\n",
        "df = pd.read_csv(\"https://raw.githubusercontent.com/fivethirtyeight/data/master/hip-hop-candidate-lyrics/genius_hip_hop_lyrics.csv\", encoding = \"ISO-8859-1\")\n",
        "# Had difficulties loading files because of encoding\n",
        "#so encoding was changed\n",
        "\n"
      ],
      "execution_count": 0,
      "outputs": []
    },
    {
      "cell_type": "code",
      "metadata": {
        "id": "D3n5TXtHiMHO",
        "colab_type": "code",
        "colab": {}
      },
      "source": [
        "df"
      ],
      "execution_count": 0,
      "outputs": []
    },
    {
      "cell_type": "code",
      "metadata": {
        "id": "eSzGEJjfyZWH",
        "colab_type": "code",
        "outputId": "4099e7d0-a22c-4725-dd9c-1b91fe4ffb6a",
        "colab": {
          "base_uri": "https://localhost:8080/",
          "height": 1000
        }
      },
      "source": [
        "#Make a column mentions that groups candidates and album release dates into # of mentions \n",
        "#for a given year\n",
        "df2= df.groupby([\"candidate\", \"album_release_date\"]).size().reset_index(name='mentions')\n",
        "df2"
      ],
      "execution_count": 0,
      "outputs": [
        {
          "output_type": "execute_result",
          "data": {
            "text/html": [
              "<div>\n",
              "<style scoped>\n",
              "    .dataframe tbody tr th:only-of-type {\n",
              "        vertical-align: middle;\n",
              "    }\n",
              "\n",
              "    .dataframe tbody tr th {\n",
              "        vertical-align: top;\n",
              "    }\n",
              "\n",
              "    .dataframe thead th {\n",
              "        text-align: right;\n",
              "    }\n",
              "</style>\n",
              "<table border=\"1\" class=\"dataframe\">\n",
              "  <thead>\n",
              "    <tr style=\"text-align: right;\">\n",
              "      <th></th>\n",
              "      <th>candidate</th>\n",
              "      <th>album_release_date</th>\n",
              "      <th>mentions</th>\n",
              "    </tr>\n",
              "  </thead>\n",
              "  <tbody>\n",
              "    <tr>\n",
              "      <th>0</th>\n",
              "      <td>Ben Carson</td>\n",
              "      <td>2011</td>\n",
              "      <td>1</td>\n",
              "    </tr>\n",
              "    <tr>\n",
              "      <th>1</th>\n",
              "      <td>Bernie Sanders</td>\n",
              "      <td>2015</td>\n",
              "      <td>2</td>\n",
              "    </tr>\n",
              "    <tr>\n",
              "      <th>2</th>\n",
              "      <td>Chris Christie</td>\n",
              "      <td>2014</td>\n",
              "      <td>1</td>\n",
              "    </tr>\n",
              "    <tr>\n",
              "      <th>3</th>\n",
              "      <td>Chris Christie</td>\n",
              "      <td>2016</td>\n",
              "      <td>1</td>\n",
              "    </tr>\n",
              "    <tr>\n",
              "      <th>4</th>\n",
              "      <td>Donald Trump</td>\n",
              "      <td>1989</td>\n",
              "      <td>3</td>\n",
              "    </tr>\n",
              "    <tr>\n",
              "      <th>5</th>\n",
              "      <td>Donald Trump</td>\n",
              "      <td>1990</td>\n",
              "      <td>2</td>\n",
              "    </tr>\n",
              "    <tr>\n",
              "      <th>6</th>\n",
              "      <td>Donald Trump</td>\n",
              "      <td>1991</td>\n",
              "      <td>2</td>\n",
              "    </tr>\n",
              "    <tr>\n",
              "      <th>7</th>\n",
              "      <td>Donald Trump</td>\n",
              "      <td>1992</td>\n",
              "      <td>4</td>\n",
              "    </tr>\n",
              "    <tr>\n",
              "      <th>8</th>\n",
              "      <td>Donald Trump</td>\n",
              "      <td>1993</td>\n",
              "      <td>1</td>\n",
              "    </tr>\n",
              "    <tr>\n",
              "      <th>9</th>\n",
              "      <td>Donald Trump</td>\n",
              "      <td>1994</td>\n",
              "      <td>3</td>\n",
              "    </tr>\n",
              "    <tr>\n",
              "      <th>10</th>\n",
              "      <td>Donald Trump</td>\n",
              "      <td>1995</td>\n",
              "      <td>4</td>\n",
              "    </tr>\n",
              "    <tr>\n",
              "      <th>11</th>\n",
              "      <td>Donald Trump</td>\n",
              "      <td>1996</td>\n",
              "      <td>3</td>\n",
              "    </tr>\n",
              "    <tr>\n",
              "      <th>12</th>\n",
              "      <td>Donald Trump</td>\n",
              "      <td>1997</td>\n",
              "      <td>2</td>\n",
              "    </tr>\n",
              "    <tr>\n",
              "      <th>13</th>\n",
              "      <td>Donald Trump</td>\n",
              "      <td>1998</td>\n",
              "      <td>7</td>\n",
              "    </tr>\n",
              "    <tr>\n",
              "      <th>14</th>\n",
              "      <td>Donald Trump</td>\n",
              "      <td>1999</td>\n",
              "      <td>6</td>\n",
              "    </tr>\n",
              "    <tr>\n",
              "      <th>15</th>\n",
              "      <td>Donald Trump</td>\n",
              "      <td>2000</td>\n",
              "      <td>9</td>\n",
              "    </tr>\n",
              "    <tr>\n",
              "      <th>16</th>\n",
              "      <td>Donald Trump</td>\n",
              "      <td>2001</td>\n",
              "      <td>3</td>\n",
              "    </tr>\n",
              "    <tr>\n",
              "      <th>17</th>\n",
              "      <td>Donald Trump</td>\n",
              "      <td>2002</td>\n",
              "      <td>9</td>\n",
              "    </tr>\n",
              "    <tr>\n",
              "      <th>18</th>\n",
              "      <td>Donald Trump</td>\n",
              "      <td>2003</td>\n",
              "      <td>4</td>\n",
              "    </tr>\n",
              "    <tr>\n",
              "      <th>19</th>\n",
              "      <td>Donald Trump</td>\n",
              "      <td>2004</td>\n",
              "      <td>4</td>\n",
              "    </tr>\n",
              "    <tr>\n",
              "      <th>20</th>\n",
              "      <td>Donald Trump</td>\n",
              "      <td>2005</td>\n",
              "      <td>8</td>\n",
              "    </tr>\n",
              "    <tr>\n",
              "      <th>21</th>\n",
              "      <td>Donald Trump</td>\n",
              "      <td>2006</td>\n",
              "      <td>12</td>\n",
              "    </tr>\n",
              "    <tr>\n",
              "      <th>22</th>\n",
              "      <td>Donald Trump</td>\n",
              "      <td>2007</td>\n",
              "      <td>7</td>\n",
              "    </tr>\n",
              "    <tr>\n",
              "      <th>23</th>\n",
              "      <td>Donald Trump</td>\n",
              "      <td>2008</td>\n",
              "      <td>9</td>\n",
              "    </tr>\n",
              "    <tr>\n",
              "      <th>24</th>\n",
              "      <td>Donald Trump</td>\n",
              "      <td>2009</td>\n",
              "      <td>7</td>\n",
              "    </tr>\n",
              "    <tr>\n",
              "      <th>25</th>\n",
              "      <td>Donald Trump</td>\n",
              "      <td>2010</td>\n",
              "      <td>12</td>\n",
              "    </tr>\n",
              "    <tr>\n",
              "      <th>26</th>\n",
              "      <td>Donald Trump</td>\n",
              "      <td>2011</td>\n",
              "      <td>16</td>\n",
              "    </tr>\n",
              "    <tr>\n",
              "      <th>27</th>\n",
              "      <td>Donald Trump</td>\n",
              "      <td>2012</td>\n",
              "      <td>17</td>\n",
              "    </tr>\n",
              "    <tr>\n",
              "      <th>28</th>\n",
              "      <td>Donald Trump</td>\n",
              "      <td>2013</td>\n",
              "      <td>33</td>\n",
              "    </tr>\n",
              "    <tr>\n",
              "      <th>29</th>\n",
              "      <td>Donald Trump</td>\n",
              "      <td>2014</td>\n",
              "      <td>22</td>\n",
              "    </tr>\n",
              "    <tr>\n",
              "      <th>30</th>\n",
              "      <td>Donald Trump</td>\n",
              "      <td>2015</td>\n",
              "      <td>32</td>\n",
              "    </tr>\n",
              "    <tr>\n",
              "      <th>31</th>\n",
              "      <td>Donald Trump</td>\n",
              "      <td>2016</td>\n",
              "      <td>27</td>\n",
              "    </tr>\n",
              "    <tr>\n",
              "      <th>32</th>\n",
              "      <td>Hillary Clinton</td>\n",
              "      <td>1993</td>\n",
              "      <td>2</td>\n",
              "    </tr>\n",
              "    <tr>\n",
              "      <th>33</th>\n",
              "      <td>Hillary Clinton</td>\n",
              "      <td>1994</td>\n",
              "      <td>2</td>\n",
              "    </tr>\n",
              "    <tr>\n",
              "      <th>34</th>\n",
              "      <td>Hillary Clinton</td>\n",
              "      <td>1996</td>\n",
              "      <td>2</td>\n",
              "    </tr>\n",
              "    <tr>\n",
              "      <th>35</th>\n",
              "      <td>Hillary Clinton</td>\n",
              "      <td>1997</td>\n",
              "      <td>2</td>\n",
              "    </tr>\n",
              "    <tr>\n",
              "      <th>36</th>\n",
              "      <td>Hillary Clinton</td>\n",
              "      <td>1998</td>\n",
              "      <td>2</td>\n",
              "    </tr>\n",
              "    <tr>\n",
              "      <th>37</th>\n",
              "      <td>Hillary Clinton</td>\n",
              "      <td>1999</td>\n",
              "      <td>3</td>\n",
              "    </tr>\n",
              "    <tr>\n",
              "      <th>38</th>\n",
              "      <td>Hillary Clinton</td>\n",
              "      <td>2000</td>\n",
              "      <td>3</td>\n",
              "    </tr>\n",
              "    <tr>\n",
              "      <th>39</th>\n",
              "      <td>Hillary Clinton</td>\n",
              "      <td>2001</td>\n",
              "      <td>3</td>\n",
              "    </tr>\n",
              "    <tr>\n",
              "      <th>40</th>\n",
              "      <td>Hillary Clinton</td>\n",
              "      <td>2002</td>\n",
              "      <td>1</td>\n",
              "    </tr>\n",
              "    <tr>\n",
              "      <th>41</th>\n",
              "      <td>Hillary Clinton</td>\n",
              "      <td>2003</td>\n",
              "      <td>1</td>\n",
              "    </tr>\n",
              "    <tr>\n",
              "      <th>42</th>\n",
              "      <td>Hillary Clinton</td>\n",
              "      <td>2004</td>\n",
              "      <td>2</td>\n",
              "    </tr>\n",
              "    <tr>\n",
              "      <th>43</th>\n",
              "      <td>Hillary Clinton</td>\n",
              "      <td>2005</td>\n",
              "      <td>2</td>\n",
              "    </tr>\n",
              "    <tr>\n",
              "      <th>44</th>\n",
              "      <td>Hillary Clinton</td>\n",
              "      <td>2007</td>\n",
              "      <td>4</td>\n",
              "    </tr>\n",
              "    <tr>\n",
              "      <th>45</th>\n",
              "      <td>Hillary Clinton</td>\n",
              "      <td>2008</td>\n",
              "      <td>17</td>\n",
              "    </tr>\n",
              "    <tr>\n",
              "      <th>46</th>\n",
              "      <td>Hillary Clinton</td>\n",
              "      <td>2009</td>\n",
              "      <td>5</td>\n",
              "    </tr>\n",
              "    <tr>\n",
              "      <th>47</th>\n",
              "      <td>Hillary Clinton</td>\n",
              "      <td>2010</td>\n",
              "      <td>5</td>\n",
              "    </tr>\n",
              "    <tr>\n",
              "      <th>48</th>\n",
              "      <td>Hillary Clinton</td>\n",
              "      <td>2011</td>\n",
              "      <td>4</td>\n",
              "    </tr>\n",
              "    <tr>\n",
              "      <th>49</th>\n",
              "      <td>Hillary Clinton</td>\n",
              "      <td>2012</td>\n",
              "      <td>11</td>\n",
              "    </tr>\n",
              "    <tr>\n",
              "      <th>50</th>\n",
              "      <td>Hillary Clinton</td>\n",
              "      <td>2013</td>\n",
              "      <td>8</td>\n",
              "    </tr>\n",
              "    <tr>\n",
              "      <th>51</th>\n",
              "      <td>Hillary Clinton</td>\n",
              "      <td>2014</td>\n",
              "      <td>4</td>\n",
              "    </tr>\n",
              "    <tr>\n",
              "      <th>52</th>\n",
              "      <td>Hillary Clinton</td>\n",
              "      <td>2015</td>\n",
              "      <td>6</td>\n",
              "    </tr>\n",
              "    <tr>\n",
              "      <th>53</th>\n",
              "      <td>Hillary Clinton</td>\n",
              "      <td>2016</td>\n",
              "      <td>3</td>\n",
              "    </tr>\n",
              "    <tr>\n",
              "      <th>54</th>\n",
              "      <td>Jeb Bush</td>\n",
              "      <td>2001</td>\n",
              "      <td>1</td>\n",
              "    </tr>\n",
              "    <tr>\n",
              "      <th>55</th>\n",
              "      <td>Jeb Bush</td>\n",
              "      <td>2005</td>\n",
              "      <td>3</td>\n",
              "    </tr>\n",
              "    <tr>\n",
              "      <th>56</th>\n",
              "      <td>Jeb Bush</td>\n",
              "      <td>2006</td>\n",
              "      <td>2</td>\n",
              "    </tr>\n",
              "    <tr>\n",
              "      <th>57</th>\n",
              "      <td>Jeb Bush</td>\n",
              "      <td>2007</td>\n",
              "      <td>1</td>\n",
              "    </tr>\n",
              "    <tr>\n",
              "      <th>58</th>\n",
              "      <td>Jeb Bush</td>\n",
              "      <td>2012</td>\n",
              "      <td>1</td>\n",
              "    </tr>\n",
              "    <tr>\n",
              "      <th>59</th>\n",
              "      <td>Jeb Bush</td>\n",
              "      <td>2013</td>\n",
              "      <td>1</td>\n",
              "    </tr>\n",
              "    <tr>\n",
              "      <th>60</th>\n",
              "      <td>Mike Huckabee</td>\n",
              "      <td>2011</td>\n",
              "      <td>1</td>\n",
              "    </tr>\n",
              "    <tr>\n",
              "      <th>61</th>\n",
              "      <td>Mike Huckabee</td>\n",
              "      <td>2012</td>\n",
              "      <td>1</td>\n",
              "    </tr>\n",
              "    <tr>\n",
              "      <th>62</th>\n",
              "      <td>Ted Cruz</td>\n",
              "      <td>2015</td>\n",
              "      <td>1</td>\n",
              "    </tr>\n",
              "  </tbody>\n",
              "</table>\n",
              "</div>"
            ],
            "text/plain": [
              "          candidate  album_release_date  mentions\n",
              "0        Ben Carson                2011         1\n",
              "1    Bernie Sanders                2015         2\n",
              "2    Chris Christie                2014         1\n",
              "3    Chris Christie                2016         1\n",
              "4      Donald Trump                1989         3\n",
              "5      Donald Trump                1990         2\n",
              "6      Donald Trump                1991         2\n",
              "7      Donald Trump                1992         4\n",
              "8      Donald Trump                1993         1\n",
              "9      Donald Trump                1994         3\n",
              "10     Donald Trump                1995         4\n",
              "11     Donald Trump                1996         3\n",
              "12     Donald Trump                1997         2\n",
              "13     Donald Trump                1998         7\n",
              "14     Donald Trump                1999         6\n",
              "15     Donald Trump                2000         9\n",
              "16     Donald Trump                2001         3\n",
              "17     Donald Trump                2002         9\n",
              "18     Donald Trump                2003         4\n",
              "19     Donald Trump                2004         4\n",
              "20     Donald Trump                2005         8\n",
              "21     Donald Trump                2006        12\n",
              "22     Donald Trump                2007         7\n",
              "23     Donald Trump                2008         9\n",
              "24     Donald Trump                2009         7\n",
              "25     Donald Trump                2010        12\n",
              "26     Donald Trump                2011        16\n",
              "27     Donald Trump                2012        17\n",
              "28     Donald Trump                2013        33\n",
              "29     Donald Trump                2014        22\n",
              "30     Donald Trump                2015        32\n",
              "31     Donald Trump                2016        27\n",
              "32  Hillary Clinton                1993         2\n",
              "33  Hillary Clinton                1994         2\n",
              "34  Hillary Clinton                1996         2\n",
              "35  Hillary Clinton                1997         2\n",
              "36  Hillary Clinton                1998         2\n",
              "37  Hillary Clinton                1999         3\n",
              "38  Hillary Clinton                2000         3\n",
              "39  Hillary Clinton                2001         3\n",
              "40  Hillary Clinton                2002         1\n",
              "41  Hillary Clinton                2003         1\n",
              "42  Hillary Clinton                2004         2\n",
              "43  Hillary Clinton                2005         2\n",
              "44  Hillary Clinton                2007         4\n",
              "45  Hillary Clinton                2008        17\n",
              "46  Hillary Clinton                2009         5\n",
              "47  Hillary Clinton                2010         5\n",
              "48  Hillary Clinton                2011         4\n",
              "49  Hillary Clinton                2012        11\n",
              "50  Hillary Clinton                2013         8\n",
              "51  Hillary Clinton                2014         4\n",
              "52  Hillary Clinton                2015         6\n",
              "53  Hillary Clinton                2016         3\n",
              "54         Jeb Bush                2001         1\n",
              "55         Jeb Bush                2005         3\n",
              "56         Jeb Bush                2006         2\n",
              "57         Jeb Bush                2007         1\n",
              "58         Jeb Bush                2012         1\n",
              "59         Jeb Bush                2013         1\n",
              "60    Mike Huckabee                2011         1\n",
              "61    Mike Huckabee                2012         1\n",
              "62         Ted Cruz                2015         1"
            ]
          },
          "metadata": {
            "tags": []
          },
          "execution_count": 147
        }
      ]
    },
    {
      "cell_type": "code",
      "metadata": {
        "id": "DehjeRjW69J0",
        "colab_type": "code",
        "colab": {}
      },
      "source": [
        "#Had to play around with sorting values to get the right order for legend\n",
        "df2 = df2.sort_values(by=[\"album_release_date\",\"candidate\",\"mentions\"])"
      ],
      "execution_count": 0,
      "outputs": []
    },
    {
      "cell_type": "code",
      "metadata": {
        "id": "STnvgNzlwWVD",
        "colab_type": "code",
        "colab": {}
      },
      "source": [
        "#I set limits of rows and columns to 65 and 10 so that I could see all the indexes\n",
        "#kept comming trunctuated\n",
        "\n",
        "pd.set_option('display.max_columns', 10)\n",
        "pd.set_option(\"max_rows\", 65)"
      ],
      "execution_count": 0,
      "outputs": []
    },
    {
      "cell_type": "code",
      "metadata": {
        "id": "a53pZ5tifiIz",
        "colab_type": "code",
        "outputId": "84693e0a-d752-4ce1-e27e-f67b8efc6e6f",
        "colab": {
          "base_uri": "https://localhost:8080/",
          "height": 339
        }
      },
      "source": [
        "#Alot of trial and error and researching in the web, while comparing with lecture notes\n",
        "#I eventually realize that I can make a nice scatter plot with seaborn\n",
        "#And Use Matplotlib for extra control\n",
        "#Still don't know how to change hues based on preference\n",
        "#Seaborn randomizes the color??? or is there some parameter I am unaware off?\n",
        "\n",
        "\n",
        "#change background color to white\n",
        "ax.set_facecolor('purple')\n",
        "\n",
        "import seaborn as sns\n",
        "import matplotlib.pyplot as plt\n",
        "%matplotlib inline\n",
        "\n",
        "#style sheet\n",
        "sns.set_style(\"whitegrid\")\n",
        "\n",
        "\n",
        "\n",
        "# ax.set_xticks & ax.set_ylabel gives control of the x axis and y axis\n",
        "ax = sns.scatterplot(x=\"album_release_date\", y=\"mentions\", data=df2,hue=\"candidate\",units=1)\n",
        "ax.set_xticks(range(1990,2020,5))\n",
        "ax.set_xticklabels(range(1990,2020,5))\n",
        "ax.set_yticks(range(0,40,5))\n",
        "ax.set_yticklabels(range(0,40,5))\n",
        "\n",
        "#Adjust legends position and size, nncol changes the legend from vertical look\n",
        "# to a horizontal look based on how many ncol u specify\n",
        "\n",
        "ax.legend(title_fontsize=1,loc='upper center', ncol=9, bbox_to_anchor=(.2, .7, .5, .5))\n",
        "\n",
        "\n",
        "# The picture doesn't really have x and y labels , they are implied\n",
        "# y axis corresponds to mentions\n",
        "# x axis corresponds to album_release_date\n",
        "ax.set_xlabel('')\n",
        "ax.set_ylabel('')\n",
        "ax.set_title('Every mention of 2016 primary candidates in hip-hop songs', x =.5, y =1.2, fontname=\"Arial\")\n",
        "\n",
        "# Remove Spines\n",
        "ax.spines['left'].set_visible(False)\n",
        "ax.spines['right'].set_visible(False)\n",
        "ax.spines['top'].set_visible(False)\n",
        "ax.spines['bottom'].set_visible(False)\n",
        "\n",
        "\n",
        "\n",
        "plt.show()"
      ],
      "execution_count": 0,
      "outputs": [
        {
          "output_type": "stream",
          "text": [
            "findfont: Font family ['Arial'] not found. Falling back to DejaVu Sans.\n"
          ],
          "name": "stderr"
        },
        {
          "output_type": "display_data",
          "data": {
            "image/png": "[encoded data removed]",
            "text/plain": [
              "<Figure size 432x288 with 1 Axes>"
            ]
          },
          "metadata": {
            "tags": []
          }
        }
      ]
    },
    {
      "cell_type": "code",
      "metadata": {
        "id": "bKC20DBa0sU0",
        "colab_type": "code",
        "colab": {}
      },
      "source": [
        "#Final Notes for PROBLEM2\n",
        "#Initial thought process was to create and superimpose 8 scatter plots with different colors\n",
        "#The scatter plots were going to compare two different album release date vs mentions\n",
        "# of candidate\n",
        "#I would begin by making 8 different data frames of candidates\n",
        "#ex C1 = df2[(df2[\"candidate\"] == \"Ben Carson\")], C2= ...\n",
        "#Then somehow I would merge all 8 scatter plots\n",
        "#Realize eventually this is too tedious, and didn't really found a way to merge all\n",
        "#Lastly, the my graph is fairly similar, but I am still trying to figure out a way to\n",
        "#stack mentions vs just grouping them by counts*\n",
        "#538 stacks individual data points, I instead stacked them to get as close to there graph\n",
        "\n"
      ],
      "execution_count": 0,
      "outputs": []
    },
    {
      "cell_type": "markdown",
      "metadata": {
        "id": "0wSrBzmJyWaV",
        "colab_type": "text"
      },
      "source": [
        "# STRETCH OPTIONS\n",
        "\n",
        "### 1) Reproduce one of the following using the matplotlib or seaborn libraries:\n",
        "\n",
        "- [thanksgiving-2015](https://fivethirtyeight.com/features/heres-what-your-part-of-america-eats-on-thanksgiving/) \n",
        "- [candy-power-ranking](https://fivethirtyeight.com/features/the-ultimate-halloween-candy-power-ranking/) \n",
        "- or another example of your choice!\n",
        "\n",
        "### 2) Make more charts!\n",
        "\n",
        "Choose a chart you want to make, from [Visual Vocabulary - Vega Edition](http://ft.com/vocabulary).\n",
        "\n",
        "Find the chart in an example gallery of a Python data visualization library:\n",
        "- [Seaborn](http://seaborn.pydata.org/examples/index.html)\n",
        "- [Altair](https://altair-viz.github.io/gallery/index.html)\n",
        "- [Matplotlib](https://matplotlib.org/gallery.html)\n",
        "- [Pandas](https://pandas.pydata.org/pandas-docs/stable/visualization.html)\n",
        "\n",
        "Reproduce the chart. [Optionally, try the \"Ben Franklin Method.\"](https://docs.google.com/document/d/1ubOw9B3Hfip27hF2ZFnW3a3z9xAgrUDRReOEo-FHCVs/edit) If you want, experiment and make changes.\n",
        "\n",
        "Take notes. Consider sharing your work with your cohort!"
      ]
    },
    {
      "cell_type": "code",
      "metadata": {
        "id": "dRJkKftiy5BJ",
        "colab_type": "code",
        "colab": {}
      },
      "source": [
        "# More Work Here"
      ],
      "execution_count": 0,
      "outputs": []
    }
  ]
}